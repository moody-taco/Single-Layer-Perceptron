{
 "cells": [
  {
   "cell_type": "markdown",
   "metadata": {},
   "source": [
    "<h1>Single Layer Perceptron</h1>"
   ]
  },
  {
   "cell_type": "code",
   "execution_count": 18,
   "metadata": {},
   "outputs": [],
   "source": [
    "import numpy as np\n",
    "import pandas as pd"
   ]
  },
  {
   "cell_type": "code",
   "execution_count": 19,
   "metadata": {},
   "outputs": [
    {
     "data": {
      "text/plain": [
       "array([[ 1,  1,  1,  1],\n",
       "       [-1,  1, -1, -1],\n",
       "       [ 1,  1,  1, -1],\n",
       "       [ 1, -1, -1,  1]])"
      ]
     },
     "execution_count": 19,
     "metadata": {},
     "output_type": "execute_result"
    }
   ],
   "source": [
    "x = np.array([[1, 1, 1, 1], \n",
    "              [-1, 1, -1, -1],\n",
    "              [1, 1, 1, -1],\n",
    "              [1, -1, -1, 1]])\n",
    "x"
   ]
  },
  {
   "cell_type": "code",
   "execution_count": 20,
   "metadata": {},
   "outputs": [
    {
     "data": {
      "text/plain": [
       "(4, 4)"
      ]
     },
     "execution_count": 20,
     "metadata": {},
     "output_type": "execute_result"
    }
   ],
   "source": [
    "x.shape"
   ]
  },
  {
   "cell_type": "code",
   "execution_count": 21,
   "metadata": {},
   "outputs": [],
   "source": [
    "samples, features = x.shape"
   ]
  },
  {
   "cell_type": "code",
   "execution_count": 22,
   "metadata": {},
   "outputs": [
    {
     "data": {
      "text/plain": [
       "array([1., 1., 1., 1.])"
      ]
     },
     "execution_count": 22,
     "metadata": {},
     "output_type": "execute_result"
    }
   ],
   "source": [
    "t = np.ones(samples)\n",
    "t"
   ]
  },
  {
   "cell_type": "code",
   "execution_count": 23,
   "metadata": {},
   "outputs": [
    {
     "data": {
      "text/plain": [
       "array([ 1., -1., -1., -1.])"
      ]
     },
     "execution_count": 23,
     "metadata": {},
     "output_type": "execute_result"
    }
   ],
   "source": [
    "for i in range(samples):\n",
    " if -1 in x[i]:\n",
    "    t[i] = -1\n",
    "t"
   ]
  },
  {
   "cell_type": "code",
   "execution_count": 24,
   "metadata": {},
   "outputs": [
    {
     "data": {
      "text/plain": [
       "array([0., 0., 0., 0.])"
      ]
     },
     "execution_count": 24,
     "metadata": {},
     "output_type": "execute_result"
    }
   ],
   "source": [
    "w = np.zeros(features)\n",
    "w"
   ]
  },
  {
   "cell_type": "code",
   "execution_count": 25,
   "metadata": {},
   "outputs": [],
   "source": [
    "b = 0\n",
    "alpha = 1"
   ]
  },
  {
   "cell_type": "markdown",
   "metadata": {},
   "source": [
    "<h4>Activation Function</h4>"
   ]
  },
  {
   "cell_type": "code",
   "execution_count": 26,
   "metadata": {},
   "outputs": [],
   "source": [
    "def activation_func(y_in):\n",
    " if y_in > 0: \n",
    "    return 1\n",
    " elif y_in == 0: \n",
    "    return 0\n",
    " else: \n",
    "    return -1"
   ]
  },
  {
   "cell_type": "markdown",
   "metadata": {},
   "source": [
    "<h4>Creating Perceptron</h4>"
   ]
  },
  {
   "cell_type": "code",
   "execution_count": 27,
   "metadata": {},
   "outputs": [],
   "source": [
    "iterations = pd.DataFrame()\n",
    "iterations[['x1','x2','x3','x4','t','y_in','y','w1','w2','w3','w4','b']] = None"
   ]
  },
  {
   "cell_type": "code",
   "execution_count": 28,
   "metadata": {},
   "outputs": [],
   "source": [
    "def perceptron(x,samples,features,t,w,b,alpha,epochs,iterations):\n",
    "    for epoch in range(1,epochs+1):\n",
    "        itr_x = []\n",
    "        itr_w = []\n",
    "        for id, x_i in enumerate(x):\n",
    "            y_in = np.dot(x_i,w.T) + b\n",
    "            y = activation_func(y_in)\n",
    "            if y!= t[id]:\n",
    "                for i in range(features):\n",
    "                    w[i] = w[i] + alpha*t[id]*x_i[i];\n",
    "                b = b + alpha*t[id]\n",
    "            itr_x.extend(x_i)\n",
    "            itr_w.extend(w)\n",
    "            row = []\n",
    "            row.extend(itr_x)\n",
    "            row.append(t[id])\n",
    "            row.append(y_in)\n",
    "            row.append(y)\n",
    "            row.extend(itr_w)\n",
    "            row.append(b)\n",
    "            iterations.loc[len(iterations.index)] = row\n",
    "            row.clear()\n",
    "            itr_x.clear()\n",
    "            itr_w.clear()\n",
    "        print('Iteration',epoch)\n",
    "        print(iterations)\n",
    "        iterations = iterations[0:0]\n",
    "    return w,b\n"
   ]
  },
  {
   "cell_type": "code",
   "execution_count": 29,
   "metadata": {},
   "outputs": [
    {
     "name": "stdout",
     "output_type": "stream",
     "text": [
      "Iteration 1\n",
      "    x1   x2   x3   x4    t  y_in    y   w1   w2   w3   w4    b\n",
      "0  1.0  1.0  1.0  1.0  1.0   0.0  0.0  1.0  1.0  1.0  1.0  1.0\n",
      "1 -1.0  1.0 -1.0 -1.0 -1.0  -1.0 -1.0  1.0  1.0  1.0  1.0  1.0\n",
      "2  1.0  1.0  1.0 -1.0 -1.0   3.0  1.0  0.0  0.0  0.0  2.0  0.0\n",
      "3  1.0 -1.0 -1.0  1.0 -1.0   2.0  1.0 -1.0  1.0  1.0  1.0 -1.0\n",
      "Iteration 2\n",
      "    x1   x2   x3   x4    t  y_in    y   w1   w2   w3   w4    b\n",
      "0  1.0  1.0  1.0  1.0  1.0   1.0  1.0 -1.0  1.0  1.0  1.0 -1.0\n",
      "1 -1.0  1.0 -1.0 -1.0 -1.0  -1.0 -1.0 -1.0  1.0  1.0  1.0 -1.0\n",
      "2  1.0  1.0  1.0 -1.0 -1.0  -1.0 -1.0 -1.0  1.0  1.0  1.0 -1.0\n",
      "3  1.0 -1.0 -1.0  1.0 -1.0  -3.0 -1.0 -1.0  1.0  1.0  1.0 -1.0\n"
     ]
    },
    {
     "name": "stderr",
     "output_type": "stream",
     "text": [
      "C:\\Users\\owner\\AppData\\Local\\Temp/ipykernel_17088/2350287618.py:21: SettingWithCopyWarning: \n",
      "A value is trying to be set on a copy of a slice from a DataFrame\n",
      "\n",
      "See the caveats in the documentation: https://pandas.pydata.org/pandas-docs/stable/user_guide/indexing.html#returning-a-view-versus-a-copy\n",
      "  iterations.loc[len(iterations.index)] = row\n",
      "C:\\Users\\owner\\AppData\\Local\\Temp/ipykernel_17088/2350287618.py:21: SettingWithCopyWarning: \n",
      "A value is trying to be set on a copy of a slice from a DataFrame\n",
      "\n",
      "See the caveats in the documentation: https://pandas.pydata.org/pandas-docs/stable/user_guide/indexing.html#returning-a-view-versus-a-copy\n",
      "  iterations.loc[len(iterations.index)] = row\n",
      "C:\\Users\\owner\\AppData\\Local\\Temp/ipykernel_17088/2350287618.py:21: SettingWithCopyWarning: \n",
      "A value is trying to be set on a copy of a slice from a DataFrame\n",
      "\n",
      "See the caveats in the documentation: https://pandas.pydata.org/pandas-docs/stable/user_guide/indexing.html#returning-a-view-versus-a-copy\n",
      "  iterations.loc[len(iterations.index)] = row\n"
     ]
    }
   ],
   "source": [
    "w,b = perceptron(x,samples,features,t,w,b,alpha,2,iterations)"
   ]
  },
  {
   "cell_type": "code",
   "execution_count": 30,
   "metadata": {},
   "outputs": [
    {
     "name": "stdout",
     "output_type": "stream",
     "text": [
      "Weights:  [-1.  1.  1.  1.]\n",
      "Bias:  -1.0\n"
     ]
    }
   ],
   "source": [
    "print('Weights: ',w)\n",
    "print('Bias: ',b)"
   ]
  }
 ],
 "metadata": {
  "kernelspec": {
   "display_name": "Python 3.8.10 64-bit (microsoft store)",
   "language": "python",
   "name": "python3"
  },
  "language_info": {
   "codemirror_mode": {
    "name": "ipython",
    "version": 3
   },
   "file_extension": ".py",
   "mimetype": "text/x-python",
   "name": "python",
   "nbconvert_exporter": "python",
   "pygments_lexer": "ipython3",
   "version": "3.8.10"
  },
  "orig_nbformat": 4,
  "vscode": {
   "interpreter": {
    "hash": "2c6705cc57ed747ef2461007aee654db1d4f83bc8f2450a7e48810799b9c4610"
   }
  }
 },
 "nbformat": 4,
 "nbformat_minor": 2
}
